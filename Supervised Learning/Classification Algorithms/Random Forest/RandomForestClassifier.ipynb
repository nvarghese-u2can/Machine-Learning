{
 "cells": [
  {
   "cell_type": "markdown",
   "metadata": {},
   "source": [
    "# Implementation of RandomForest Classifier Model\n",
    "## This is model is implemented with a dummy artificial dataset"
   ]
  },
  {
   "cell_type": "code",
   "execution_count": 1,
   "metadata": {},
   "outputs": [],
   "source": [
    "import numpy as np\n",
    "import pandas as pd\n",
    "import matplotlib.pyplot as plt\n",
    "import seaborn as sns\n",
    "\n",
    "%matplotlib inline "
   ]
  },
  {
   "cell_type": "code",
   "execution_count": 2,
   "metadata": {},
   "outputs": [
    {
     "data": {
      "text/html": [
       "<div>\n",
       "<style scoped>\n",
       "    .dataframe tbody tr th:only-of-type {\n",
       "        vertical-align: middle;\n",
       "    }\n",
       "\n",
       "    .dataframe tbody tr th {\n",
       "        vertical-align: top;\n",
       "    }\n",
       "\n",
       "    .dataframe thead th {\n",
       "        text-align: right;\n",
       "    }\n",
       "</style>\n",
       "<table border=\"1\" class=\"dataframe\">\n",
       "  <thead>\n",
       "    <tr style=\"text-align: right;\">\n",
       "      <th></th>\n",
       "      <th>Age</th>\n",
       "      <th>EstimatedSalary</th>\n",
       "      <th>Purchased</th>\n",
       "    </tr>\n",
       "  </thead>\n",
       "  <tbody>\n",
       "    <tr>\n",
       "      <th>0</th>\n",
       "      <td>19</td>\n",
       "      <td>19000</td>\n",
       "      <td>0</td>\n",
       "    </tr>\n",
       "    <tr>\n",
       "      <th>1</th>\n",
       "      <td>35</td>\n",
       "      <td>20000</td>\n",
       "      <td>0</td>\n",
       "    </tr>\n",
       "    <tr>\n",
       "      <th>2</th>\n",
       "      <td>26</td>\n",
       "      <td>43000</td>\n",
       "      <td>0</td>\n",
       "    </tr>\n",
       "    <tr>\n",
       "      <th>3</th>\n",
       "      <td>27</td>\n",
       "      <td>57000</td>\n",
       "      <td>0</td>\n",
       "    </tr>\n",
       "    <tr>\n",
       "      <th>4</th>\n",
       "      <td>19</td>\n",
       "      <td>76000</td>\n",
       "      <td>0</td>\n",
       "    </tr>\n",
       "    <tr>\n",
       "      <th>...</th>\n",
       "      <td>...</td>\n",
       "      <td>...</td>\n",
       "      <td>...</td>\n",
       "    </tr>\n",
       "    <tr>\n",
       "      <th>395</th>\n",
       "      <td>46</td>\n",
       "      <td>41000</td>\n",
       "      <td>1</td>\n",
       "    </tr>\n",
       "    <tr>\n",
       "      <th>396</th>\n",
       "      <td>51</td>\n",
       "      <td>23000</td>\n",
       "      <td>1</td>\n",
       "    </tr>\n",
       "    <tr>\n",
       "      <th>397</th>\n",
       "      <td>50</td>\n",
       "      <td>20000</td>\n",
       "      <td>1</td>\n",
       "    </tr>\n",
       "    <tr>\n",
       "      <th>398</th>\n",
       "      <td>36</td>\n",
       "      <td>33000</td>\n",
       "      <td>0</td>\n",
       "    </tr>\n",
       "    <tr>\n",
       "      <th>399</th>\n",
       "      <td>49</td>\n",
       "      <td>36000</td>\n",
       "      <td>1</td>\n",
       "    </tr>\n",
       "  </tbody>\n",
       "</table>\n",
       "<p>400 rows × 3 columns</p>\n",
       "</div>"
      ],
      "text/plain": [
       "     Age  EstimatedSalary  Purchased\n",
       "0     19            19000          0\n",
       "1     35            20000          0\n",
       "2     26            43000          0\n",
       "3     27            57000          0\n",
       "4     19            76000          0\n",
       "..   ...              ...        ...\n",
       "395   46            41000          1\n",
       "396   51            23000          1\n",
       "397   50            20000          1\n",
       "398   36            33000          0\n",
       "399   49            36000          1\n",
       "\n",
       "[400 rows x 3 columns]"
      ]
     },
     "execution_count": 2,
     "metadata": {},
     "output_type": "execute_result"
    }
   ],
   "source": [
    "dataset = pd.read_csv('Social_Network_Ads.csv')\n",
    "dataset"
   ]
  },
  {
   "cell_type": "markdown",
   "metadata": {},
   "source": [
    "## EDA"
   ]
  },
  {
   "cell_type": "code",
   "execution_count": 3,
   "metadata": {},
   "outputs": [
    {
     "name": "stdout",
     "output_type": "stream",
     "text": [
      "<class 'pandas.core.frame.DataFrame'>\n",
      "RangeIndex: 400 entries, 0 to 399\n",
      "Data columns (total 3 columns):\n",
      " #   Column           Non-Null Count  Dtype\n",
      "---  ------           --------------  -----\n",
      " 0   Age              400 non-null    int64\n",
      " 1   EstimatedSalary  400 non-null    int64\n",
      " 2   Purchased        400 non-null    int64\n",
      "dtypes: int64(3)\n",
      "memory usage: 9.5 KB\n"
     ]
    }
   ],
   "source": [
    "dataset.info()"
   ]
  },
  {
   "cell_type": "code",
   "execution_count": 4,
   "metadata": {},
   "outputs": [
    {
     "data": {
      "text/html": [
       "<div>\n",
       "<style scoped>\n",
       "    .dataframe tbody tr th:only-of-type {\n",
       "        vertical-align: middle;\n",
       "    }\n",
       "\n",
       "    .dataframe tbody tr th {\n",
       "        vertical-align: top;\n",
       "    }\n",
       "\n",
       "    .dataframe thead th {\n",
       "        text-align: right;\n",
       "    }\n",
       "</style>\n",
       "<table border=\"1\" class=\"dataframe\">\n",
       "  <thead>\n",
       "    <tr style=\"text-align: right;\">\n",
       "      <th></th>\n",
       "      <th>count</th>\n",
       "      <th>mean</th>\n",
       "      <th>std</th>\n",
       "      <th>min</th>\n",
       "      <th>25%</th>\n",
       "      <th>50%</th>\n",
       "      <th>75%</th>\n",
       "      <th>max</th>\n",
       "    </tr>\n",
       "  </thead>\n",
       "  <tbody>\n",
       "    <tr>\n",
       "      <th>Age</th>\n",
       "      <td>400.0</td>\n",
       "      <td>37.6550</td>\n",
       "      <td>10.482877</td>\n",
       "      <td>18.0</td>\n",
       "      <td>29.75</td>\n",
       "      <td>37.0</td>\n",
       "      <td>46.0</td>\n",
       "      <td>60.0</td>\n",
       "    </tr>\n",
       "    <tr>\n",
       "      <th>EstimatedSalary</th>\n",
       "      <td>400.0</td>\n",
       "      <td>69742.5000</td>\n",
       "      <td>34096.960282</td>\n",
       "      <td>15000.0</td>\n",
       "      <td>43000.00</td>\n",
       "      <td>70000.0</td>\n",
       "      <td>88000.0</td>\n",
       "      <td>150000.0</td>\n",
       "    </tr>\n",
       "    <tr>\n",
       "      <th>Purchased</th>\n",
       "      <td>400.0</td>\n",
       "      <td>0.3575</td>\n",
       "      <td>0.479864</td>\n",
       "      <td>0.0</td>\n",
       "      <td>0.00</td>\n",
       "      <td>0.0</td>\n",
       "      <td>1.0</td>\n",
       "      <td>1.0</td>\n",
       "    </tr>\n",
       "  </tbody>\n",
       "</table>\n",
       "</div>"
      ],
      "text/plain": [
       "                 count        mean           std      min       25%      50%  \\\n",
       "Age              400.0     37.6550     10.482877     18.0     29.75     37.0   \n",
       "EstimatedSalary  400.0  69742.5000  34096.960282  15000.0  43000.00  70000.0   \n",
       "Purchased        400.0      0.3575      0.479864      0.0      0.00      0.0   \n",
       "\n",
       "                     75%       max  \n",
       "Age                 46.0      60.0  \n",
       "EstimatedSalary  88000.0  150000.0  \n",
       "Purchased            1.0       1.0  "
      ]
     },
     "execution_count": 4,
     "metadata": {},
     "output_type": "execute_result"
    }
   ],
   "source": [
    "dataset.describe().transpose()"
   ]
  },
  {
   "cell_type": "code",
   "execution_count": 5,
   "metadata": {},
   "outputs": [
    {
     "data": {
      "text/plain": [
       "<matplotlib.axes._subplots.AxesSubplot at 0x1ee7fd95308>"
      ]
     },
     "execution_count": 5,
     "metadata": {},
     "output_type": "execute_result"
    },
    {
     "data": {
      "image/png": "[encoded data removed]",
      "text/plain": [
       "<Figure size 720x720 with 2 Axes>"
      ]
     },
     "metadata": {
      "needs_background": "light"
     },
     "output_type": "display_data"
    }
   ],
   "source": [
    "plt.figure(figsize=([10,10]))\n",
    "sns.heatmap(dataset.isnull(),xticklabels=False,yticklabels=False)"
   ]
  },
  {
   "cell_type": "code",
   "execution_count": 6,
   "metadata": {},
   "outputs": [
    {
     "data": {
      "text/plain": [
       "<matplotlib.axes._subplots.AxesSubplot at 0x1ee00838c88>"
      ]
     },
     "execution_count": 6,
     "metadata": {},
     "output_type": "execute_result"
    },
    {
     "data": {
      "image/png": "[encoded data removed]",
      "text/plain": [
       "<Figure size 720x720 with 2 Axes>"
      ]
     },
     "metadata": {
      "needs_background": "light"
     },
     "output_type": "display_data"
    }
   ],
   "source": [
    "plt.figure(figsize=([10,10]))\n",
    "sns.heatmap(dataset.corr(),xticklabels=True,yticklabels=True,annot=True)"
   ]
  },
  {
   "cell_type": "code",
   "execution_count": 7,
   "metadata": {},
   "outputs": [
    {
     "data": {
      "text/plain": [
       "<seaborn.axisgrid.PairGrid at 0x1ee00813808>"
      ]
     },
     "execution_count": 7,
     "metadata": {},
     "output_type": "execute_result"
    },
    {
     "data": {
      "image/png": "[encoded data removed]",
      "text/plain": [
       "<Figure size 540x540 with 12 Axes>"
      ]
     },
     "metadata": {
      "needs_background": "light"
     },
     "output_type": "display_data"
    }
   ],
   "source": [
    "sns.pairplot(data=dataset)"
   ]
  },
  {
   "cell_type": "code",
   "execution_count": 8,
   "metadata": {},
   "outputs": [
    {
     "data": {
      "text/plain": [
       "<matplotlib.axes._subplots.AxesSubplot at 0x1ee00f32788>"
      ]
     },
     "execution_count": 8,
     "metadata": {},
     "output_type": "execute_result"
    },
    {
     "data": {
      "image/png": "[encoded data removed]",
      "text/plain": [
       "<Figure size 720x720 with 1 Axes>"
      ]
     },
     "metadata": {
      "needs_background": "light"
     },
     "output_type": "display_data"
    }
   ],
   "source": [
    "plt.figure(figsize=([10,10]))\n",
    "sns.set_style('darkgrid')\n",
    "sns.distplot(dataset['EstimatedSalary'])"
   ]
  },
  {
   "cell_type": "code",
   "execution_count": 9,
   "metadata": {},
   "outputs": [
    {
     "data": {
      "text/plain": [
       "<matplotlib.axes._subplots.AxesSubplot at 0x1ee01104348>"
      ]
     },
     "execution_count": 9,
     "metadata": {},
     "output_type": "execute_result"
    },
    {
     "data": {
      "image/png": "[encoded data removed]",
      "text/plain": [
       "<Figure size 720x720 with 1 Axes>"
      ]
     },
     "metadata": {},
     "output_type": "display_data"
    }
   ],
   "source": [
    "plt.figure(figsize=([10,10]))\n",
    "sns.countplot(x='Purchased',data=dataset)"
   ]
  },
  {
   "cell_type": "code",
   "execution_count": 10,
   "metadata": {},
   "outputs": [
    {
     "data": {
      "text/plain": [
       "<seaborn.axisgrid.JointGrid at 0x1ee7fb512c8>"
      ]
     },
     "execution_count": 10,
     "metadata": {},
     "output_type": "execute_result"
    },
    {
     "data": {
      "image/png": "[encoded data removed]",
      "text/plain": [
       "<Figure size 432x432 with 3 Axes>"
      ]
     },
     "metadata": {},
     "output_type": "display_data"
    }
   ],
   "source": [
    "sns.jointplot(x='Age',y='Purchased', data=dataset)"
   ]
  },
  {
   "cell_type": "markdown",
   "metadata": {},
   "source": [
    "## Model building"
   ]
  },
  {
   "cell_type": "code",
   "execution_count": 11,
   "metadata": {},
   "outputs": [],
   "source": [
    "from sklearn.model_selection import train_test_split"
   ]
  },
  {
   "cell_type": "code",
   "execution_count": 12,
   "metadata": {},
   "outputs": [
    {
     "data": {
      "text/plain": [
       "(array([[    19,  19000],\n",
       "        [    35,  20000],\n",
       "        [    26,  43000],\n",
       "        [    27,  57000],\n",
       "        [    19,  76000],\n",
       "        [    27,  58000],\n",
       "        [    27,  84000],\n",
       "        [    32, 150000],\n",
       "        [    25,  33000],\n",
       "        [    35,  65000],\n",
       "        [    26,  80000],\n",
       "        [    26,  52000],\n",
       "        [    20,  86000],\n",
       "        [    32,  18000],\n",
       "        [    18,  82000],\n",
       "        [    29,  80000],\n",
       "        [    47,  25000],\n",
       "        [    45,  26000],\n",
       "        [    46,  28000],\n",
       "        [    48,  29000],\n",
       "        [    45,  22000],\n",
       "        [    47,  49000],\n",
       "        [    48,  41000],\n",
       "        [    45,  22000],\n",
       "        [    46,  23000],\n",
       "        [    47,  20000],\n",
       "        [    49,  28000],\n",
       "        [    47,  30000],\n",
       "        [    29,  43000],\n",
       "        [    31,  18000],\n",
       "        [    31,  74000],\n",
       "        [    27, 137000],\n",
       "        [    21,  16000],\n",
       "        [    28,  44000],\n",
       "        [    27,  90000],\n",
       "        [    35,  27000],\n",
       "        [    33,  28000],\n",
       "        [    30,  49000],\n",
       "        [    26,  72000],\n",
       "        [    27,  31000],\n",
       "        [    27,  17000],\n",
       "        [    33,  51000],\n",
       "        [    35, 108000],\n",
       "        [    30,  15000],\n",
       "        [    28,  84000],\n",
       "        [    23,  20000],\n",
       "        [    25,  79000],\n",
       "        [    27,  54000],\n",
       "        [    30, 135000],\n",
       "        [    31,  89000],\n",
       "        [    24,  32000],\n",
       "        [    18,  44000],\n",
       "        [    29,  83000],\n",
       "        [    35,  23000],\n",
       "        [    27,  58000],\n",
       "        [    24,  55000],\n",
       "        [    23,  48000],\n",
       "        [    28,  79000],\n",
       "        [    22,  18000],\n",
       "        [    32, 117000],\n",
       "        [    27,  20000],\n",
       "        [    25,  87000],\n",
       "        [    23,  66000],\n",
       "        [    32, 120000],\n",
       "        [    59,  83000],\n",
       "        [    24,  58000],\n",
       "        [    24,  19000],\n",
       "        [    23,  82000],\n",
       "        [    22,  63000],\n",
       "        [    31,  68000],\n",
       "        [    25,  80000],\n",
       "        [    24,  27000],\n",
       "        [    20,  23000],\n",
       "        [    33, 113000],\n",
       "        [    32,  18000],\n",
       "        [    34, 112000],\n",
       "        [    18,  52000],\n",
       "        [    22,  27000],\n",
       "        [    28,  87000],\n",
       "        [    26,  17000],\n",
       "        [    30,  80000],\n",
       "        [    39,  42000],\n",
       "        [    20,  49000],\n",
       "        [    35,  88000],\n",
       "        [    30,  62000],\n",
       "        [    31, 118000],\n",
       "        [    24,  55000],\n",
       "        [    28,  85000],\n",
       "        [    26,  81000],\n",
       "        [    35,  50000],\n",
       "        [    22,  81000],\n",
       "        [    30, 116000],\n",
       "        [    26,  15000],\n",
       "        [    29,  28000],\n",
       "        [    29,  83000],\n",
       "        [    35,  44000],\n",
       "        [    35,  25000],\n",
       "        [    28, 123000],\n",
       "        [    35,  73000],\n",
       "        [    28,  37000],\n",
       "        [    27,  88000],\n",
       "        [    28,  59000],\n",
       "        [    32,  86000],\n",
       "        [    33, 149000],\n",
       "        [    19,  21000],\n",
       "        [    21,  72000],\n",
       "        [    26,  35000],\n",
       "        [    27,  89000],\n",
       "        [    26,  86000],\n",
       "        [    38,  80000],\n",
       "        [    39,  71000],\n",
       "        [    37,  71000],\n",
       "        [    38,  61000],\n",
       "        [    37,  55000],\n",
       "        [    42,  80000],\n",
       "        [    40,  57000],\n",
       "        [    35,  75000],\n",
       "        [    36,  52000],\n",
       "        [    40,  59000],\n",
       "        [    41,  59000],\n",
       "        [    36,  75000],\n",
       "        [    37,  72000],\n",
       "        [    40,  75000],\n",
       "        [    35,  53000],\n",
       "        [    41,  51000],\n",
       "        [    39,  61000],\n",
       "        [    42,  65000],\n",
       "        [    26,  32000],\n",
       "        [    30,  17000],\n",
       "        [    26,  84000],\n",
       "        [    31,  58000],\n",
       "        [    33,  31000],\n",
       "        [    30,  87000],\n",
       "        [    21,  68000],\n",
       "        [    28,  55000],\n",
       "        [    23,  63000],\n",
       "        [    20,  82000],\n",
       "        [    30, 107000],\n",
       "        [    28,  59000],\n",
       "        [    19,  25000],\n",
       "        [    19,  85000],\n",
       "        [    18,  68000],\n",
       "        [    35,  59000],\n",
       "        [    30,  89000],\n",
       "        [    34,  25000],\n",
       "        [    24,  89000],\n",
       "        [    27,  96000],\n",
       "        [    41,  30000],\n",
       "        [    29,  61000],\n",
       "        [    20,  74000],\n",
       "        [    26,  15000],\n",
       "        [    41,  45000],\n",
       "        [    31,  76000],\n",
       "        [    36,  50000],\n",
       "        [    40,  47000],\n",
       "        [    31,  15000],\n",
       "        [    46,  59000],\n",
       "        [    29,  75000],\n",
       "        [    26,  30000],\n",
       "        [    32, 135000],\n",
       "        [    32, 100000],\n",
       "        [    25,  90000],\n",
       "        [    37,  33000],\n",
       "        [    35,  38000],\n",
       "        [    33,  69000],\n",
       "        [    18,  86000],\n",
       "        [    22,  55000],\n",
       "        [    35,  71000],\n",
       "        [    29, 148000],\n",
       "        [    29,  47000],\n",
       "        [    21,  88000],\n",
       "        [    34, 115000],\n",
       "        [    26, 118000],\n",
       "        [    34,  43000],\n",
       "        [    34,  72000],\n",
       "        [    23,  28000],\n",
       "        [    35,  47000],\n",
       "        [    25,  22000],\n",
       "        [    24,  23000],\n",
       "        [    31,  34000],\n",
       "        [    26,  16000],\n",
       "        [    31,  71000],\n",
       "        [    32, 117000],\n",
       "        [    33,  43000],\n",
       "        [    33,  60000],\n",
       "        [    31,  66000],\n",
       "        [    20,  82000],\n",
       "        [    33,  41000],\n",
       "        [    35,  72000],\n",
       "        [    28,  32000],\n",
       "        [    24,  84000],\n",
       "        [    19,  26000],\n",
       "        [    29,  43000],\n",
       "        [    19,  70000],\n",
       "        [    28,  89000],\n",
       "        [    34,  43000],\n",
       "        [    30,  79000],\n",
       "        [    20,  36000],\n",
       "        [    26,  80000],\n",
       "        [    35,  22000],\n",
       "        [    35,  39000],\n",
       "        [    49,  74000],\n",
       "        [    39, 134000],\n",
       "        [    41,  71000],\n",
       "        [    58, 101000],\n",
       "        [    47,  47000],\n",
       "        [    55, 130000],\n",
       "        [    52, 114000],\n",
       "        [    40, 142000],\n",
       "        [    46,  22000],\n",
       "        [    48,  96000],\n",
       "        [    52, 150000],\n",
       "        [    59,  42000],\n",
       "        [    35,  58000],\n",
       "        [    47,  43000],\n",
       "        [    60, 108000],\n",
       "        [    49,  65000],\n",
       "        [    40,  78000],\n",
       "        [    46,  96000],\n",
       "        [    59, 143000],\n",
       "        [    41,  80000],\n",
       "        [    35,  91000],\n",
       "        [    37, 144000],\n",
       "        [    60, 102000],\n",
       "        [    35,  60000],\n",
       "        [    37,  53000],\n",
       "        [    36, 126000],\n",
       "        [    56, 133000],\n",
       "        [    40,  72000],\n",
       "        [    42,  80000],\n",
       "        [    35, 147000],\n",
       "        [    39,  42000],\n",
       "        [    40, 107000],\n",
       "        [    49,  86000],\n",
       "        [    38, 112000],\n",
       "        [    46,  79000],\n",
       "        [    40,  57000],\n",
       "        [    37,  80000],\n",
       "        [    46,  82000],\n",
       "        [    53, 143000],\n",
       "        [    42, 149000],\n",
       "        [    38,  59000],\n",
       "        [    50,  88000],\n",
       "        [    56, 104000],\n",
       "        [    41,  72000],\n",
       "        [    51, 146000],\n",
       "        [    35,  50000],\n",
       "        [    57, 122000],\n",
       "        [    41,  52000],\n",
       "        [    35,  97000],\n",
       "        [    44,  39000],\n",
       "        [    37,  52000],\n",
       "        [    48, 134000],\n",
       "        [    37, 146000],\n",
       "        [    50,  44000],\n",
       "        [    52,  90000],\n",
       "        [    41,  72000],\n",
       "        [    40,  57000],\n",
       "        [    58,  95000],\n",
       "        [    45, 131000],\n",
       "        [    35,  77000],\n",
       "        [    36, 144000],\n",
       "        [    55, 125000],\n",
       "        [    35,  72000],\n",
       "        [    48,  90000],\n",
       "        [    42, 108000],\n",
       "        [    40,  75000],\n",
       "        [    37,  74000],\n",
       "        [    47, 144000],\n",
       "        [    40,  61000],\n",
       "        [    43, 133000],\n",
       "        [    59,  76000],\n",
       "        [    60,  42000],\n",
       "        [    39, 106000],\n",
       "        [    57,  26000],\n",
       "        [    57,  74000],\n",
       "        [    38,  71000],\n",
       "        [    49,  88000],\n",
       "        [    52,  38000],\n",
       "        [    50,  36000],\n",
       "        [    59,  88000],\n",
       "        [    35,  61000],\n",
       "        [    37,  70000],\n",
       "        [    52,  21000],\n",
       "        [    48, 141000],\n",
       "        [    37,  93000],\n",
       "        [    37,  62000],\n",
       "        [    48, 138000],\n",
       "        [    41,  79000],\n",
       "        [    37,  78000],\n",
       "        [    39, 134000],\n",
       "        [    49,  89000],\n",
       "        [    55,  39000],\n",
       "        [    37,  77000],\n",
       "        [    35,  57000],\n",
       "        [    36,  63000],\n",
       "        [    42,  73000],\n",
       "        [    43, 112000],\n",
       "        [    45,  79000],\n",
       "        [    46, 117000],\n",
       "        [    58,  38000],\n",
       "        [    48,  74000],\n",
       "        [    37, 137000],\n",
       "        [    37,  79000],\n",
       "        [    40,  60000],\n",
       "        [    42,  54000],\n",
       "        [    51, 134000],\n",
       "        [    47, 113000],\n",
       "        [    36, 125000],\n",
       "        [    38,  50000],\n",
       "        [    42,  70000],\n",
       "        [    39,  96000],\n",
       "        [    38,  50000],\n",
       "        [    49, 141000],\n",
       "        [    39,  79000],\n",
       "        [    39,  75000],\n",
       "        [    54, 104000],\n",
       "        [    35,  55000],\n",
       "        [    45,  32000],\n",
       "        [    36,  60000],\n",
       "        [    52, 138000],\n",
       "        [    53,  82000],\n",
       "        [    41,  52000],\n",
       "        [    48,  30000],\n",
       "        [    48, 131000],\n",
       "        [    41,  60000],\n",
       "        [    41,  72000],\n",
       "        [    42,  75000],\n",
       "        [    36, 118000],\n",
       "        [    47, 107000],\n",
       "        [    38,  51000],\n",
       "        [    48, 119000],\n",
       "        [    42,  65000],\n",
       "        [    40,  65000],\n",
       "        [    57,  60000],\n",
       "        [    36,  54000],\n",
       "        [    58, 144000],\n",
       "        [    35,  79000],\n",
       "        [    38,  55000],\n",
       "        [    39, 122000],\n",
       "        [    53, 104000],\n",
       "        [    35,  75000],\n",
       "        [    38,  65000],\n",
       "        [    47,  51000],\n",
       "        [    47, 105000],\n",
       "        [    41,  63000],\n",
       "        [    53,  72000],\n",
       "        [    54, 108000],\n",
       "        [    39,  77000],\n",
       "        [    38,  61000],\n",
       "        [    38, 113000],\n",
       "        [    37,  75000],\n",
       "        [    42,  90000],\n",
       "        [    37,  57000],\n",
       "        [    36,  99000],\n",
       "        [    60,  34000],\n",
       "        [    54,  70000],\n",
       "        [    41,  72000],\n",
       "        [    40,  71000],\n",
       "        [    42,  54000],\n",
       "        [    43, 129000],\n",
       "        [    53,  34000],\n",
       "        [    47,  50000],\n",
       "        [    42,  79000],\n",
       "        [    42, 104000],\n",
       "        [    59,  29000],\n",
       "        [    58,  47000],\n",
       "        [    46,  88000],\n",
       "        [    38,  71000],\n",
       "        [    54,  26000],\n",
       "        [    60,  46000],\n",
       "        [    60,  83000],\n",
       "        [    39,  73000],\n",
       "        [    59, 130000],\n",
       "        [    37,  80000],\n",
       "        [    46,  32000],\n",
       "        [    46,  74000],\n",
       "        [    42,  53000],\n",
       "        [    41,  87000],\n",
       "        [    58,  23000],\n",
       "        [    42,  64000],\n",
       "        [    48,  33000],\n",
       "        [    44, 139000],\n",
       "        [    49,  28000],\n",
       "        [    57,  33000],\n",
       "        [    56,  60000],\n",
       "        [    49,  39000],\n",
       "        [    39,  71000],\n",
       "        [    47,  34000],\n",
       "        [    48,  35000],\n",
       "        [    48,  33000],\n",
       "        [    47,  23000],\n",
       "        [    45,  45000],\n",
       "        [    60,  42000],\n",
       "        [    39,  59000],\n",
       "        [    46,  41000],\n",
       "        [    51,  23000],\n",
       "        [    50,  20000],\n",
       "        [    36,  33000],\n",
       "        [    49,  36000]], dtype=int64),\n",
       " array([0, 0, 0, 0, 0, 0, 0, 1, 0, 0, 0, 0, 0, 0, 0, 0, 1, 1, 1, 1, 1, 1,\n",
       "        1, 1, 1, 1, 1, 1, 0, 0, 0, 1, 0, 0, 0, 0, 0, 0, 0, 0, 0, 0, 0, 0,\n",
       "        0, 0, 0, 0, 1, 0, 0, 0, 0, 0, 0, 0, 0, 0, 0, 0, 0, 0, 0, 1, 0, 0,\n",
       "        0, 0, 0, 0, 0, 0, 0, 0, 0, 1, 0, 0, 0, 0, 0, 0, 0, 0, 0, 1, 0, 0,\n",
       "        0, 0, 0, 0, 0, 0, 0, 0, 0, 1, 0, 0, 0, 0, 0, 1, 0, 0, 0, 0, 0, 0,\n",
       "        0, 0, 0, 0, 0, 0, 0, 0, 0, 0, 0, 0, 0, 0, 0, 0, 0, 0, 0, 0, 0, 0,\n",
       "        0, 0, 0, 0, 0, 1, 0, 0, 0, 0, 0, 0, 0, 0, 1, 0, 0, 0, 0, 0, 0, 0,\n",
       "        0, 0, 0, 0, 0, 1, 1, 0, 0, 0, 0, 0, 0, 0, 1, 0, 0, 0, 0, 0, 0, 0,\n",
       "        0, 0, 0, 0, 0, 0, 1, 0, 0, 0, 0, 0, 0, 0, 0, 0, 0, 0, 0, 0, 0, 0,\n",
       "        0, 0, 0, 0, 1, 0, 1, 0, 1, 0, 1, 0, 1, 1, 0, 0, 0, 1, 0, 0, 0, 1,\n",
       "        0, 1, 1, 1, 0, 0, 1, 1, 0, 1, 1, 0, 1, 1, 0, 1, 0, 0, 0, 1, 1, 0,\n",
       "        1, 1, 0, 1, 0, 1, 0, 1, 0, 0, 1, 1, 0, 1, 0, 0, 1, 1, 0, 1, 1, 0,\n",
       "        1, 1, 0, 0, 1, 0, 0, 1, 1, 1, 1, 1, 0, 1, 1, 1, 1, 0, 1, 1, 0, 1,\n",
       "        0, 1, 0, 1, 1, 1, 1, 0, 0, 0, 1, 1, 0, 1, 1, 1, 1, 1, 0, 0, 0, 1,\n",
       "        1, 0, 0, 1, 0, 1, 0, 1, 1, 0, 1, 0, 1, 1, 0, 1, 1, 0, 0, 0, 1, 1,\n",
       "        0, 1, 0, 0, 1, 0, 1, 0, 0, 1, 1, 0, 0, 1, 1, 0, 1, 1, 0, 0, 1, 0,\n",
       "        1, 0, 1, 1, 1, 0, 1, 0, 1, 1, 1, 0, 1, 1, 1, 1, 0, 1, 1, 1, 0, 1,\n",
       "        0, 1, 0, 0, 1, 1, 0, 1, 1, 1, 1, 1, 1, 0, 1, 1, 1, 1, 1, 1, 0, 1,\n",
       "        1, 1, 0, 1], dtype=int64))"
      ]
     },
     "execution_count": 12,
     "metadata": {},
     "output_type": "execute_result"
    }
   ],
   "source": [
    "X = dataset.iloc[:,:-1].values\n",
    "y = dataset.iloc[:,-1].values\n",
    "X,y"
   ]
  },
  {
   "cell_type": "code",
   "execution_count": 13,
   "metadata": {},
   "outputs": [],
   "source": [
    "X_Train,X_Test,y_train,y_test = train_test_split(X,y,test_size = 0.3, random_state=101)"
   ]
  },
  {
   "cell_type": "code",
   "execution_count": 14,
   "metadata": {},
   "outputs": [],
   "source": [
    "from sklearn.preprocessing import StandardScaler"
   ]
  },
  {
   "cell_type": "code",
   "execution_count": 15,
   "metadata": {},
   "outputs": [],
   "source": [
    "scale = StandardScaler()"
   ]
  },
  {
   "cell_type": "code",
   "execution_count": 16,
   "metadata": {},
   "outputs": [],
   "source": [
    "X_Train = scale.fit_transform(X_Train)\n",
    "X_Test = scale.transform(X_Test)"
   ]
  },
  {
   "cell_type": "code",
   "execution_count": 17,
   "metadata": {},
   "outputs": [],
   "source": [
    "from sklearn.ensemble import RandomForestClassifier"
   ]
  },
  {
   "cell_type": "code",
   "execution_count": 18,
   "metadata": {},
   "outputs": [
    {
     "data": {
      "text/plain": [
       "RandomForestClassifier(bootstrap=True, ccp_alpha=0.0, class_weight=None,\n",
       "                       criterion='gini', max_depth=None, max_features='auto',\n",
       "                       max_leaf_nodes=None, max_samples=None,\n",
       "                       min_impurity_decrease=0.0, min_impurity_split=None,\n",
       "                       min_samples_leaf=1, min_samples_split=2,\n",
       "                       min_weight_fraction_leaf=0.0, n_estimators=10,\n",
       "                       n_jobs=None, oob_score=False, random_state=None,\n",
       "                       verbose=0, warm_start=False)"
      ]
     },
     "execution_count": 18,
     "metadata": {},
     "output_type": "execute_result"
    }
   ],
   "source": [
    "model = RandomForestClassifier(n_estimators=10)\n",
    "model"
   ]
  },
  {
   "cell_type": "code",
   "execution_count": 19,
   "metadata": {},
   "outputs": [
    {
     "data": {
      "text/plain": [
       "RandomForestClassifier(bootstrap=True, ccp_alpha=0.0, class_weight=None,\n",
       "                       criterion='gini', max_depth=None, max_features='auto',\n",
       "                       max_leaf_nodes=None, max_samples=None,\n",
       "                       min_impurity_decrease=0.0, min_impurity_split=None,\n",
       "                       min_samples_leaf=1, min_samples_split=2,\n",
       "                       min_weight_fraction_leaf=0.0, n_estimators=10,\n",
       "                       n_jobs=None, oob_score=False, random_state=None,\n",
       "                       verbose=0, warm_start=False)"
      ]
     },
     "execution_count": 19,
     "metadata": {},
     "output_type": "execute_result"
    }
   ],
   "source": [
    "model.fit(X_Train,y_train)"
   ]
  },
  {
   "cell_type": "code",
   "execution_count": 20,
   "metadata": {},
   "outputs": [
    {
     "data": {
      "text/plain": [
       "array([0, 0, 1, 0, 0, 1, 0, 0, 0, 0, 1, 1, 1, 0, 0, 0, 1, 0, 0, 1, 1, 1,\n",
       "       0, 0, 0, 0, 0, 1, 1, 1, 0, 1, 0, 0, 1, 1, 1, 1, 1, 0, 0, 0, 0, 0,\n",
       "       0, 0, 0, 0, 1, 0, 0, 1, 0, 1, 1, 0, 1, 0, 0, 1, 1, 1, 0, 1, 0, 1,\n",
       "       0, 1, 0, 0, 0, 0, 1, 1, 0, 0, 0, 0, 0, 0, 1, 0, 0, 1, 0, 1, 0, 1,\n",
       "       1, 0, 0, 0, 0, 0, 1, 0, 1, 1, 0, 1, 0, 0, 0, 0, 0, 0, 1, 0, 0, 0,\n",
       "       1, 1, 0, 0, 0, 0, 0, 0, 0, 1], dtype=int64)"
      ]
     },
     "execution_count": 20,
     "metadata": {},
     "output_type": "execute_result"
    }
   ],
   "source": [
    "predictions = model.predict(X_Test)\n",
    "predictions"
   ]
  },
  {
   "cell_type": "markdown",
   "metadata": {},
   "source": [
    "## Model Evaluations"
   ]
  },
  {
   "cell_type": "code",
   "execution_count": 21,
   "metadata": {},
   "outputs": [
    {
     "name": "stdout",
     "output_type": "stream",
     "text": [
      "0.9\n"
     ]
    }
   ],
   "source": [
    "print(model.score(X_Test,y_test))"
   ]
  },
  {
   "cell_type": "code",
   "execution_count": 22,
   "metadata": {},
   "outputs": [],
   "source": [
    "from sklearn.metrics import classification_report,confusion_matrix,accuracy_score"
   ]
  },
  {
   "cell_type": "code",
   "execution_count": 23,
   "metadata": {},
   "outputs": [
    {
     "name": "stdout",
     "output_type": "stream",
     "text": [
      "Confusion matrix\n",
      "[[72  8]\n",
      " [ 4 36]]\n"
     ]
    }
   ],
   "source": [
    "print('Confusion matrix')\n",
    "print(confusion_matrix(y_test,predictions))"
   ]
  },
  {
   "cell_type": "code",
   "execution_count": 24,
   "metadata": {},
   "outputs": [
    {
     "name": "stdout",
     "output_type": "stream",
     "text": [
      "Classification Report\n",
      "              precision    recall  f1-score   support\n",
      "\n",
      "           0       0.95      0.90      0.92        80\n",
      "           1       0.82      0.90      0.86        40\n",
      "\n",
      "    accuracy                           0.90       120\n",
      "   macro avg       0.88      0.90      0.89       120\n",
      "weighted avg       0.90      0.90      0.90       120\n",
      "\n"
     ]
    }
   ],
   "source": [
    "print('Classification Report')\n",
    "print(classification_report(y_test,predictions))"
   ]
  },
  {
   "cell_type": "code",
   "execution_count": 25,
   "metadata": {},
   "outputs": [
    {
     "name": "stdout",
     "output_type": "stream",
     "text": [
      "Model accuracy score is 0.9\n"
     ]
    }
   ],
   "source": [
    "print(f'Model accuracy score is {accuracy_score(y_test,predictions)}')"
   ]
  },
  {
   "cell_type": "code",
   "execution_count": 26,
   "metadata": {},
   "outputs": [
    {
     "data": {
      "text/plain": [
       "array([0, 0, 0, 0, 0, 0, 0, 0, 0, 0, 1, 1, 0, 0, 0, 0, 1, 0, 0, 1, 1, 1,\n",
       "       0, 0, 0, 0, 0, 1, 0, 1, 0, 0, 0, 0, 1, 1, 1, 1, 1, 0, 0, 0, 0, 0,\n",
       "       1, 0, 0, 0, 1, 0, 0, 1, 0, 1, 1, 0, 1, 0, 0, 1, 1, 1, 0, 0, 0, 1,\n",
       "       0, 1, 0, 0, 0, 0, 1, 1, 0, 0, 0, 0, 0, 0, 1, 0, 0, 0, 1, 1, 0, 1,\n",
       "       1, 1, 0, 0, 0, 0, 1, 0, 1, 1, 0, 0, 0, 0, 0, 0, 0, 0, 1, 0, 0, 0,\n",
       "       1, 1, 0, 0, 1, 0, 0, 0, 0, 1], dtype=int64)"
      ]
     },
     "execution_count": 26,
     "metadata": {},
     "output_type": "execute_result"
    }
   ],
   "source": [
    "y_test"
   ]
  },
  {
   "cell_type": "code",
   "execution_count": 27,
   "metadata": {},
   "outputs": [
    {
     "data": {
      "text/html": [
       "<div>\n",
       "<style scoped>\n",
       "    .dataframe tbody tr th:only-of-type {\n",
       "        vertical-align: middle;\n",
       "    }\n",
       "\n",
       "    .dataframe tbody tr th {\n",
       "        vertical-align: top;\n",
       "    }\n",
       "\n",
       "    .dataframe thead th {\n",
       "        text-align: right;\n",
       "    }\n",
       "</style>\n",
       "<table border=\"1\" class=\"dataframe\">\n",
       "  <thead>\n",
       "    <tr style=\"text-align: right;\">\n",
       "      <th></th>\n",
       "      <th>Predictions</th>\n",
       "      <th>Actual</th>\n",
       "    </tr>\n",
       "  </thead>\n",
       "  <tbody>\n",
       "    <tr>\n",
       "      <th>0</th>\n",
       "      <td>0</td>\n",
       "      <td>0</td>\n",
       "    </tr>\n",
       "    <tr>\n",
       "      <th>1</th>\n",
       "      <td>0</td>\n",
       "      <td>0</td>\n",
       "    </tr>\n",
       "    <tr>\n",
       "      <th>2</th>\n",
       "      <td>1</td>\n",
       "      <td>0</td>\n",
       "    </tr>\n",
       "    <tr>\n",
       "      <th>3</th>\n",
       "      <td>0</td>\n",
       "      <td>0</td>\n",
       "    </tr>\n",
       "    <tr>\n",
       "      <th>4</th>\n",
       "      <td>0</td>\n",
       "      <td>0</td>\n",
       "    </tr>\n",
       "    <tr>\n",
       "      <th>...</th>\n",
       "      <td>...</td>\n",
       "      <td>...</td>\n",
       "    </tr>\n",
       "    <tr>\n",
       "      <th>115</th>\n",
       "      <td>0</td>\n",
       "      <td>0</td>\n",
       "    </tr>\n",
       "    <tr>\n",
       "      <th>116</th>\n",
       "      <td>0</td>\n",
       "      <td>0</td>\n",
       "    </tr>\n",
       "    <tr>\n",
       "      <th>117</th>\n",
       "      <td>0</td>\n",
       "      <td>0</td>\n",
       "    </tr>\n",
       "    <tr>\n",
       "      <th>118</th>\n",
       "      <td>0</td>\n",
       "      <td>0</td>\n",
       "    </tr>\n",
       "    <tr>\n",
       "      <th>119</th>\n",
       "      <td>1</td>\n",
       "      <td>1</td>\n",
       "    </tr>\n",
       "  </tbody>\n",
       "</table>\n",
       "<p>120 rows × 2 columns</p>\n",
       "</div>"
      ],
      "text/plain": [
       "     Predictions  Actual\n",
       "0              0       0\n",
       "1              0       0\n",
       "2              1       0\n",
       "3              0       0\n",
       "4              0       0\n",
       "..           ...     ...\n",
       "115            0       0\n",
       "116            0       0\n",
       "117            0       0\n",
       "118            0       0\n",
       "119            1       1\n",
       "\n",
       "[120 rows x 2 columns]"
      ]
     },
     "execution_count": 27,
     "metadata": {},
     "output_type": "execute_result"
    }
   ],
   "source": [
    "df1 = pd.DataFrame(data=predictions, columns=['Predictions'])\n",
    "df2 = pd.DataFrame(data=y_test, columns=['Actual'])\n",
    "\n",
    "pd.concat([df1,df2],axis=1)"
   ]
  },
  {
   "cell_type": "code",
   "execution_count": 28,
   "metadata": {},
   "outputs": [
    {
     "data": {
      "text/plain": [
       "array([[0, 0],\n",
       "       [0, 0],\n",
       "       [0, 1],\n",
       "       [0, 0],\n",
       "       [0, 0],\n",
       "       [0, 1],\n",
       "       [0, 0],\n",
       "       [0, 0],\n",
       "       [0, 0],\n",
       "       [0, 0],\n",
       "       [1, 1],\n",
       "       [1, 1],\n",
       "       [0, 1],\n",
       "       [0, 0],\n",
       "       [0, 0],\n",
       "       [0, 0],\n",
       "       [1, 1],\n",
       "       [0, 0],\n",
       "       [0, 0],\n",
       "       [1, 1],\n",
       "       [1, 1],\n",
       "       [1, 1],\n",
       "       [0, 0],\n",
       "       [0, 0],\n",
       "       [0, 0],\n",
       "       [0, 0],\n",
       "       [0, 0],\n",
       "       [1, 1],\n",
       "       [0, 1],\n",
       "       [1, 1],\n",
       "       [0, 0],\n",
       "       [0, 1],\n",
       "       [0, 0],\n",
       "       [0, 0],\n",
       "       [1, 1],\n",
       "       [1, 1],\n",
       "       [1, 1],\n",
       "       [1, 1],\n",
       "       [1, 1],\n",
       "       [0, 0],\n",
       "       [0, 0],\n",
       "       [0, 0],\n",
       "       [0, 0],\n",
       "       [0, 0],\n",
       "       [1, 0],\n",
       "       [0, 0],\n",
       "       [0, 0],\n",
       "       [0, 0],\n",
       "       [1, 1],\n",
       "       [0, 0],\n",
       "       [0, 0],\n",
       "       [1, 1],\n",
       "       [0, 0],\n",
       "       [1, 1],\n",
       "       [1, 1],\n",
       "       [0, 0],\n",
       "       [1, 1],\n",
       "       [0, 0],\n",
       "       [0, 0],\n",
       "       [1, 1],\n",
       "       [1, 1],\n",
       "       [1, 1],\n",
       "       [0, 0],\n",
       "       [0, 1],\n",
       "       [0, 0],\n",
       "       [1, 1],\n",
       "       [0, 0],\n",
       "       [1, 1],\n",
       "       [0, 0],\n",
       "       [0, 0],\n",
       "       [0, 0],\n",
       "       [0, 0],\n",
       "       [1, 1],\n",
       "       [1, 1],\n",
       "       [0, 0],\n",
       "       [0, 0],\n",
       "       [0, 0],\n",
       "       [0, 0],\n",
       "       [0, 0],\n",
       "       [0, 0],\n",
       "       [1, 1],\n",
       "       [0, 0],\n",
       "       [0, 0],\n",
       "       [0, 1],\n",
       "       [1, 0],\n",
       "       [1, 1],\n",
       "       [0, 0],\n",
       "       [1, 1],\n",
       "       [1, 1],\n",
       "       [1, 0],\n",
       "       [0, 0],\n",
       "       [0, 0],\n",
       "       [0, 0],\n",
       "       [0, 0],\n",
       "       [1, 1],\n",
       "       [0, 0],\n",
       "       [1, 1],\n",
       "       [1, 1],\n",
       "       [0, 0],\n",
       "       [0, 1],\n",
       "       [0, 0],\n",
       "       [0, 0],\n",
       "       [0, 0],\n",
       "       [0, 0],\n",
       "       [0, 0],\n",
       "       [0, 0],\n",
       "       [1, 1],\n",
       "       [0, 0],\n",
       "       [0, 0],\n",
       "       [0, 0],\n",
       "       [1, 1],\n",
       "       [1, 1],\n",
       "       [0, 0],\n",
       "       [0, 0],\n",
       "       [1, 0],\n",
       "       [0, 0],\n",
       "       [0, 0],\n",
       "       [0, 0],\n",
       "       [0, 0],\n",
       "       [1, 1]], dtype=int64)"
      ]
     },
     "execution_count": 28,
     "metadata": {},
     "output_type": "execute_result"
    }
   ],
   "source": [
    "np.concatenate((y_test.reshape(len(y_test),1),predictions.reshape(len(y_test),1)),axis=1)"
   ]
  },
  {
   "cell_type": "code",
   "execution_count": null,
   "metadata": {},
   "outputs": [],
   "source": []
  },
  {
   "cell_type": "code",
   "execution_count": 29,
   "metadata": {},
   "outputs": [
    {
     "name": "stdout",
     "output_type": "stream",
     "text": [
      "[0.9, 0.9083333333333333, 0.9166666666666666, 0.9166666666666666, 0.8916666666666667, 0.8833333333333333, 0.9, 0.8833333333333333, 0.9166666666666666, 0.8833333333333333, 0.9083333333333333, 0.9166666666666666, 0.8916666666666667, 0.9083333333333333, 0.9166666666666666, 0.8916666666666667, 0.9, 0.8833333333333333, 0.9083333333333333, 0.9166666666666666, 0.925, 0.925, 0.9166666666666666, 0.9166666666666666, 0.9083333333333333, 0.9, 0.9, 0.8916666666666667, 0.9, 0.8833333333333333, 0.9, 0.9083333333333333, 0.9166666666666666, 0.8916666666666667, 0.925, 0.9083333333333333, 0.9, 0.9, 0.8916666666666667, 0.8916666666666667]\n"
     ]
    },
    {
     "data": {
      "text/plain": [
       "[<matplotlib.lines.Line2D at 0x1ee01acd7c8>]"
      ]
     },
     "execution_count": 29,
     "metadata": {},
     "output_type": "execute_result"
    },
    {
     "data": {
      "image/png": "[encoded data removed]",
      "text/plain": [
       "<Figure size 720x720 with 1 Axes>"
      ]
     },
     "metadata": {},
     "output_type": "display_data"
    }
   ],
   "source": [
    "plt.figure(figsize=(10,10))\n",
    "ensemble_accuracy = []\n",
    "for k in range(10,50):\n",
    "    model = RandomForestClassifier(n_estimators=k)\n",
    "    model.fit(X_Train,y_train)\n",
    "    predict = model.predict(X_Test)\n",
    "    ensemble_accuracy.append(accuracy_score(y_test,predict))\n",
    "print(ensemble_accuracy)\n",
    "\n",
    "plt.plot(range(10,50),ensemble_accuracy, c='red',ls='dashed',marker='o',markerfacecolor='blue',markersize=10)"
   ]
  },
  {
   "cell_type": "markdown",
   "metadata": {},
   "source": [
    "## K-fold Cross Validation"
   ]
  },
  {
   "cell_type": "code",
   "execution_count": 30,
   "metadata": {},
   "outputs": [],
   "source": [
    "from sklearn.model_selection import cross_val_score"
   ]
  },
  {
   "cell_type": "code",
   "execution_count": 31,
   "metadata": {},
   "outputs": [],
   "source": [
    "cv = cross_val_score(model,X_Train,y_train,cv=10)"
   ]
  },
  {
   "cell_type": "code",
   "execution_count": 32,
   "metadata": {},
   "outputs": [
    {
     "data": {
      "text/plain": [
       "array([0.78571429, 0.85714286, 0.85714286, 0.85714286, 0.89285714,\n",
       "       0.92857143, 0.89285714, 0.82142857, 0.89285714, 0.78571429])"
      ]
     },
     "execution_count": 32,
     "metadata": {},
     "output_type": "execute_result"
    }
   ],
   "source": [
    "cv"
   ]
  },
  {
   "cell_type": "code",
   "execution_count": 33,
   "metadata": {},
   "outputs": [
    {
     "name": "stdout",
     "output_type": "stream",
     "text": [
      "mean CV score :0.8571428571428571,std deviation of CV score 4.517539514526259\n"
     ]
    }
   ],
   "source": [
    "print(f'mean CV score :{cv.mean()},std deviation of CV score {cv.std()*100}')"
   ]
  },
  {
   "cell_type": "code",
   "execution_count": 34,
   "metadata": {},
   "outputs": [
    {
     "name": "stdout",
     "output_type": "stream",
     "text": [
      "Model accuracy score is 0.9\n"
     ]
    }
   ],
   "source": [
    "print(f'Model accuracy score is {accuracy_score(y_test,predictions)}')"
   ]
  },
  {
   "cell_type": "markdown",
   "metadata": {},
   "source": [
    "## Visualization of Training set \n",
    "#### Execution of visualization part is commented due to the memory constraints of workstation"
   ]
  },
  {
   "cell_type": "code",
   "execution_count": 35,
   "metadata": {},
   "outputs": [],
   "source": [
    "# from matplotlib.colors import ListedColormap\n",
    "# X_set, y_set = scale.inverse_transform(X_Train), y_train\n",
    "# X1, X2 = np.meshgrid(np.arange(start = X_set[:, 0].min() - 10, stop = X_set[:, 0].max() + 10, step = 0.25),\n",
    "#                      np.arange(start = X_set[:, 1].min() - 1000, stop = X_set[:, 1].max() + 1000, step = 0.25))\n",
    "# plt.contourf(X1, X2, model.predict(scale.transform(np.array([X1.ravel(), X2.ravel()]).T)).reshape(X1.shape),\n",
    "#              alpha = 0.75, cmap = ListedColormap(('red', 'green')))\n",
    "# plt.xlim(X1.min(), X1.max())\n",
    "# plt.ylim(X2.min(), X2.max())\n",
    "# for i, j in enumerate(np.unique(y_set)):\n",
    "#     plt.scatter(X_set[y_set == j, 0], X_set[y_set == j, 1], c = ListedColormap(('red', 'green'))(i), label = j)\n",
    "# plt.title('Logistic Regression (Training set)')\n",
    "# plt.xlabel('Age')\n",
    "# plt.ylabel('Estimated Salary')\n",
    "# plt.legend()\n",
    "# plt.show()"
   ]
  },
  {
   "cell_type": "markdown",
   "metadata": {},
   "source": [
    "## Visualization of Test set "
   ]
  },
  {
   "cell_type": "code",
   "execution_count": 36,
   "metadata": {},
   "outputs": [],
   "source": [
    "# from matplotlib.colors import ListedColormap\n",
    "# X_set, y_set = scale.inverse_transform(X_Test), y_test\n",
    "# X1, X2 = np.meshgrid(np.arange(start = X_set[:, 0].min() - 10, stop = X_set[:, 0].max() + 10, step = 0.25),\n",
    "#                      np.arange(start = X_set[:, 1].min() - 1000, stop = X_set[:, 1].max() + 1000, step = 0.25))\n",
    "# plt.contourf(X1, X2, model.predict(scale.transform(np.array([X1.ravel(), X2.ravel()]).T)).reshape(X1.shape),\n",
    "#              alpha = 0.75, cmap = ListedColormap(('red', 'green')))\n",
    "# plt.xlim(X1.min(), X1.max())\n",
    "# plt.ylim(X2.min(), X2.max())\n",
    "# for i, j in enumerate(np.unique(y_set)):\n",
    "#     plt.scatter(X_set[y_set == j, 0], X_set[y_set == j, 1], c = ListedColormap(('red', 'green'))(i), label = j)\n",
    "# plt.title('Logistic Regression (Test set)')\n",
    "# plt.xlabel('Age')\n",
    "# plt.ylabel('Estimated Salary')\n",
    "# plt.legend()\n",
    "# plt.show()"
   ]
  }
 ],
 "metadata": {
  "kernelspec": {
   "display_name": "Python 3",
   "language": "python",
   "name": "python3"
  },
  "language_info": {
   "codemirror_mode": {
    "name": "ipython",
    "version": 3
   },
   "file_extension": ".py",
   "mimetype": "text/x-python",
   "name": "python",
   "nbconvert_exporter": "python",
   "pygments_lexer": "ipython3",
   "version": "3.7.7"
  }
 },
 "nbformat": 4,
 "nbformat_minor": 4
}
